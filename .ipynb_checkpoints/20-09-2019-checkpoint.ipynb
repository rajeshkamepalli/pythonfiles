{
 "cells": [
  {
   "cell_type": "markdown",
   "metadata": {},
   "source": [
    "# files"
   ]
  },
  {
   "cell_type": "code",
   "execution_count": 1,
   "metadata": {},
   "outputs": [],
   "source": [
    "filepath=\"./files/sample.txt\"\n",
    "with open(filepath,'r') as f :\n",
    "    a=f.readlines()\n",
    "    l=set(a)\n",
    "    p=list(l)\n",
    "    "
   ]
  },
  {
   "cell_type": "markdown",
   "metadata": {},
   "source": [
    "# match sticks"
   ]
  },
  {
   "cell_type": "code",
   "execution_count": 11,
   "metadata": {},
   "outputs": [
    {
     "name": "stdout",
     "output_type": "stream",
     "text": [
      "71\n",
      "11111\n",
      "71\n"
     ]
    }
   ],
   "source": [
    "d={0:6,1:2,2:5,3:5,4:4,5:5,6:6,7:3,8:7,9:6}\n",
    "c=0\n",
    "n=input()\n",
    "for j in n:\n",
    "    c=c+d[int(j)]\n",
    "print(\"1\"*c)\n",
    "if(c%2==0):\n",
    "    c=c/2\n",
    "    print(\"1\"*c)\n",
    "else:\n",
    "    c=c//2\n",
    "    print(\"7\"+(\"1\"*(c-1)))\n",
    "\n",
    "    "
   ]
  },
  {
   "cell_type": "markdown",
   "metadata": {},
   "source": [
    "# str in decending order"
   ]
  },
  {
   "cell_type": "code",
   "execution_count": 10,
   "metadata": {},
   "outputs": [
    {
     "name": "stdout",
     "output_type": "stream",
     "text": [
      "raj\n",
      "rajrajrajraj\n",
      "rajrajraj\n",
      "rajraj\n",
      "raj\n",
      "\n",
      "\n"
     ]
    }
   ],
   "source": [
    "n=input()\n",
    "i=4\n",
    "while(i>0):\n",
    "    for j in n:\n",
    "        print(n*i)\n",
    "        i=i-1"
   ]
  },
  {
   "cell_type": "markdown",
   "metadata": {},
   "source": [
    "# legal isbn or not"
   ]
  },
  {
   "cell_type": "code",
   "execution_count": 6,
   "metadata": {},
   "outputs": [
    {
     "name": "stdout",
     "output_type": "stream",
     "text": [
      "0764526413\n",
      "198\n",
      "legal ISBN\n"
     ]
    }
   ],
   "source": [
    "n=(input())\n",
    "j=1\n",
    "c=0\n",
    "if (len(n)==10):\n",
    "    for i in n:\n",
    "        c=c+(j*int(i))\n",
    "        j=j+1\n",
    "    print(c)\n",
    "    if(c%11==0):\n",
    "        print(\"legal ISBN\")\n",
    "        \n",
    "else:\n",
    "    print(\"INVALID ISBN\")\n"
   ]
  },
  {
   "cell_type": "code",
   "execution_count": null,
   "metadata": {},
   "outputs": [],
   "source": []
  },
  {
   "cell_type": "code",
   "execution_count": null,
   "metadata": {},
   "outputs": [],
   "source": []
  }
 ],
 "metadata": {
  "kernelspec": {
   "display_name": "Python 3",
   "language": "python",
   "name": "python3"
  },
  "language_info": {
   "codemirror_mode": {
    "name": "ipython",
    "version": 3
   },
   "file_extension": ".py",
   "mimetype": "text/x-python",
   "name": "python",
   "nbconvert_exporter": "python",
   "pygments_lexer": "ipython3",
   "version": "3.7.3"
  }
 },
 "nbformat": 4,
 "nbformat_minor": 2
}
