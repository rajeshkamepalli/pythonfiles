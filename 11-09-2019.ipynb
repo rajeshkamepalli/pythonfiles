{
 "cells": [
  {
   "cell_type": "markdown",
   "metadata": {},
   "source": [
    "# divisible by 6"
   ]
  },
  {
   "cell_type": "code",
   "execution_count": null,
   "metadata": {},
   "outputs": [],
   "source": [
    "ll=int(input(\"enter a number\"))\n",
    "ul=int(input(\"enter a number\"))\n",
    "s=0\n",
    "def findfactor(n,s):\n",
    "    for i in range (1,n):\n",
    "        if (n%i==0):\n",
    "            s=s+i\n",
    "    if s==n:\n",
    "        print(n)\n",
    "for j in range(ll,ul+1):\n",
    "    findfactor(j,s)"
   ]
  },
  {
   "cell_type": "markdown",
   "metadata": {},
   "source": [
    "# reverse of a number by list"
   ]
  },
  {
   "cell_type": "code",
   "execution_count": 23,
   "metadata": {},
   "outputs": [
    {
     "name": "stdout",
     "output_type": "stream",
     "text": [
      "enter a number12365\n"
     ]
    },
    {
     "data": {
      "text/plain": [
       "56321"
      ]
     },
     "execution_count": 23,
     "metadata": {},
     "output_type": "execute_result"
    }
   ],
   "source": [
    "n=(input(\"enter a number\"))\n",
    "n=int(n[::-1])\n",
    "n"
   ]
  },
  {
   "cell_type": "code",
   "execution_count": 22,
   "metadata": {},
   "outputs": [
    {
     "data": {
      "text/plain": [
       "str"
      ]
     },
     "execution_count": 22,
     "metadata": {},
     "output_type": "execute_result"
    }
   ],
   "source": [
    "s=str(123)\n",
    "type(s)"
   ]
  },
  {
   "cell_type": "code",
   "execution_count": 26,
   "metadata": {},
   "outputs": [
    {
     "name": "stdout",
     "output_type": "stream",
     "text": [
      "156\n",
      "1\n",
      "5\n",
      "6\n"
     ]
    }
   ],
   "source": [
    "n=input()\n",
    "for i in n:\n",
    "    print(i)"
   ]
  },
  {
   "cell_type": "markdown",
   "metadata": {},
   "source": [
    "# special number or not by function"
   ]
  },
  {
   "cell_type": "code",
   "execution_count": 10,
   "metadata": {},
   "outputs": [
    {
     "name": "stdout",
     "output_type": "stream",
     "text": [
      "enter a number29\n",
      "special number\n"
     ]
    }
   ],
   "source": [
    "n=int(input(\"enter a number\"))\n",
    "s=0\n",
    "p=1\n",
    "i=0\n",
    "f=0\n",
    "s1=0\n",
    "def add(f,s1,n,p,s):\n",
    "        f=n//10\n",
    "        s1=n%10\n",
    "        s=f+s1\n",
    "        p=f*s1\n",
    "        i=s+p\n",
    "        return i\n",
    "if (n>=10):\n",
    "    i=add(f,s1,n,p,s)  \n",
    "    if(i==n):\n",
    "        print(\"special number\")\n",
    "    else:\n",
    "        print(\"not a special number\")\n",
    "    \n",
    "else:\n",
    "    print(\"enter correct number\")\n",
    "\n",
    "    \n",
    "    "
   ]
  },
  {
   "cell_type": "markdown",
   "metadata": {},
   "source": [
    "# special number"
   ]
  },
  {
   "cell_type": "code",
   "execution_count": 6,
   "metadata": {},
   "outputs": [
    {
     "name": "stdout",
     "output_type": "stream",
     "text": [
      "19\n",
      "spl\n"
     ]
    }
   ],
   "source": [
    "n=input()\n",
    "s=0\n",
    "p=1\n",
    "for i in n:\n",
    "    s=s+int(i)\n",
    "    p=p*int(i)\n",
    "r=s+p\n",
    "if (r==int(n)):\n",
    "    print(\"spl\")\n",
    "else:\n",
    "    print(\"not spl\")"
   ]
  },
  {
   "cell_type": "markdown",
   "metadata": {},
   "source": [
    "# cubies of a number"
   ]
  },
  {
   "cell_type": "code",
   "execution_count": 1,
   "metadata": {},
   "outputs": [
    {
     "name": "stdout",
     "output_type": "stream",
     "text": [
      "value1\n",
      "value5\n",
      "36\n"
     ]
    }
   ],
   "source": [
    "l=int(input(\"value\"))\n",
    "h=int(input(\"value\"))\n",
    "ec=0\n",
    "s=0\n",
    "def avg(m,x,y,s):\n",
    "   for i in range(l,h+1):\n",
    "       if i%2==0:\n",
    "           y=y+1\n",
    "           s=s+(i**3)\n",
    "   res=s/y\n",
    "   print(int(res))\n",
    "avg(l,h,ec,s)"
   ]
  },
  {
   "cell_type": "code",
   "execution_count": null,
   "metadata": {},
   "outputs": [],
   "source": []
  }
 ],
 "metadata": {
  "kernelspec": {
   "display_name": "Python 3",
   "language": "python",
   "name": "python3"
  },
  "language_info": {
   "codemirror_mode": {
    "name": "ipython",
    "version": 3
   },
   "file_extension": ".py",
   "mimetype": "text/x-python",
   "name": "python",
   "nbconvert_exporter": "python",
   "pygments_lexer": "ipython3",
   "version": "3.7.3"
  }
 },
 "nbformat": 4,
 "nbformat_minor": 2
}
