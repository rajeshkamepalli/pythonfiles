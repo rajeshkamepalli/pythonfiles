{
 "cells": [
  {
   "cell_type": "markdown",
   "metadata": {},
   "source": [
    "# count blw number "
   ]
  },
  {
   "cell_type": "markdown",
   "metadata": {},
   "source": [
    "n={1,2,3,4,5,6,7,8,9,10}\n",
    "l=list(n)\n",
    "e=0\n",
    "o=0\n",
    "for i in l:\n",
    "    e=l[1]+l[3]+l[5]+l[7]+l[9]\n",
    "    o=l[2]+l[4]+l[6]+l[8]+l[0]\n",
    "    s=e-o\n",
    "print(s)\n",
    "    "
   ]
  },
  {
   "cell_type": "markdown",
   "metadata": {},
   "source": [
    "# files concept"
   ]
  },
  {
   "cell_type": "code",
   "execution_count": 50,
   "metadata": {},
   "outputs": [],
   "source": [
    "\n",
    "filepath=\"./files/sample.txt\"\n",
    "with open(filepath,'a') as f :\n",
    "    f.write(\"hai asim \")\n",
    "    "
   ]
  },
  {
   "cell_type": "code",
   "execution_count": null,
   "metadata": {},
   "outputs": [],
   "source": []
  },
  {
   "cell_type": "code",
   "execution_count": 9,
   "metadata": {},
   "outputs": [
    {
     "name": "stdout",
     "output_type": "stream",
     "text": [
      "happi b day\n",
      "\n"
     ]
    }
   ],
   "source": [
    "filepath=\"./files/sample.txt\"\n",
    "with open(filepath,'r') as f :\n",
    "    a=f.readlines()\n",
    "    l=list(a)\n",
    "    print(l[1])\n",
    "  \n",
    "   "
   ]
  },
  {
   "cell_type": "code",
   "execution_count": 10,
   "metadata": {},
   "outputs": [
    {
     "name": "stdout",
     "output_type": "stream",
     "text": [
      "hawley\n"
     ]
    }
   ],
   "source": [
    "l=[\"rajesh\",\"asim\",\"maggi\"]\n",
    "if \"maggi\" in l:\n",
    "    print(\"hawley\")\n",
    "else:\n",
    "    print(\"gud boy\")"
   ]
  },
  {
   "cell_type": "code",
   "execution_count": 11,
   "metadata": {},
   "outputs": [
    {
     "name": "stdout",
     "output_type": "stream",
     "text": [
      "['rajesh', 'asim', 'maggi']\n"
     ]
    }
   ],
   "source": [
    "l=[\"rajesh\",\"asim\",\"maggi\"]\n",
    "t=[]\n",
    "for i in l:\n",
    "    if i not in t:\n",
    "        t.append(i)\n",
    "print(t)"
   ]
  },
  {
   "cell_type": "code",
   "execution_count": 9,
   "metadata": {},
   "outputs": [
    {
     "name": "stdout",
     "output_type": "stream",
     "text": [
      "1 9 3\n",
      "0\n",
      "0\n",
      "0\n",
      "1\n",
      "1\n",
      "1\n",
      "2\n",
      "2\n",
      "2\n"
     ]
    }
   ],
   "source": [
    "t=input().split()\n",
    "c=0\n",
    "l=int(t[0])\n",
    "r=int(t[1])\n",
    "k=int(t[2])\n",
    "def add(p,c):\n",
    "    for j in range (1,p):\n",
    "        if(j%k==0):\n",
    "            c=c+1\n",
    "    print(c)\n",
    "for s in range(l,r+1):\n",
    "    add(s,c)\n",
    "  "
   ]
  },
  {
   "cell_type": "markdown",
   "metadata": {},
   "source": [
    "# count blw range nd sums"
   ]
  },
  {
   "cell_type": "code",
   "execution_count": 5,
   "metadata": {},
   "outputs": [
    {
     "name": "stdout",
     "output_type": "stream",
     "text": [
      "1 8 2\n",
      "4\n"
     ]
    }
   ],
   "source": [
    "t=input().split()\n",
    "c=0\n",
    "l=int(t[0])\n",
    "r=int(t[1])\n",
    "k=int(t[2])\n",
    "for i in range(l,r+1):\n",
    "    if(i%k):\n",
    "        c=c+1\n",
    "print(c)"
   ]
  },
  {
   "cell_type": "code",
   "execution_count": null,
   "metadata": {},
   "outputs": [],
   "source": []
  }
 ],
 "metadata": {
  "kernelspec": {
   "display_name": "Python 3",
   "language": "python",
   "name": "python3"
  },
  "language_info": {
   "codemirror_mode": {
    "name": "ipython",
    "version": 3
   },
   "file_extension": ".py",
   "mimetype": "text/x-python",
   "name": "python",
   "nbconvert_exporter": "python",
   "pygments_lexer": "ipython3",
   "version": "3.7.3"
  }
 },
 "nbformat": 4,
 "nbformat_minor": 2
}
